{
 "metadata": {
  "language_info": {
   "codemirror_mode": {
    "name": "ipython",
    "version": 3
   },
   "file_extension": ".py",
   "mimetype": "text/x-python",
   "name": "python",
   "nbconvert_exporter": "python",
   "pygments_lexer": "ipython3",
   "version": "3.8.5"
  },
  "orig_nbformat": 2,
  "kernelspec": {
   "name": "python385jvsc74a57bd0b10f85137d10855823b8fe0deb7b60085212067297e3cfe3f3d4856fe3611ed1",
   "display_name": "Python 3.8.5 64-bit ('MachineLearning': conda)"
  }
 },
 "nbformat": 4,
 "nbformat_minor": 2,
 "cells": [
  {
   "cell_type": "code",
   "execution_count": null,
   "metadata": {},
   "outputs": [],
   "source": [
    "https://www.youtube.com/watch?v=PmssNOAeqdk\n",
    "        at 4:59 time\n",
    "https://www.youtube.com/watch?v=5p8B2Ikcw-k\n",
    "        unsupervised learning sing isolation forest\n",
    "https://medium.datadriveninvestor.com/credit-card-fraud-detection-using-local-outlier-factor-and-isolation-forest-in-python-56edd0a44af5\n",
    "        Isolationforest theory and why we choosed isolation foest?\n",
    "https://github.com/radadiyamohit81/Fraud-Detection-on-Credit-Card-Dataset/blob/master/Credit%20Card%20Fraud%20Detection.ipynb\n",
    "        Comparing all the models in the Fraud\n",
    "https://medium.datadriveninvestor.com/credit-card-fraud-detection-using-local-outlier-factor-and-isolation-forest-in-python-56edd0a44af5\n",
    "        Isolation forest\n",
    "        \n",
    "https://towardsdatascience.com/detecting-credit-card-fraud-using-machine-learning-a3d83423d3b8\n",
    "\n",
    "\n",
    "\n",
    "\n",
    "\n",
    "Reference :\n",
    "https://digitalscholarship.unlv.edu/cgi/viewcontent.cgi?article=4457&context=thesesdissertations\n",
    "\n",
    "\n",
    "\n"
   ]
  }
 ]
}